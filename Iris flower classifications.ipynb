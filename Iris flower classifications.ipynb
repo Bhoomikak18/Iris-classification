{
 "cells": [
  {
   "cell_type": "markdown",
   "id": "110fd027-e20c-4c7c-812f-bccdfda1444e",
   "metadata": {},
   "source": [
    "## Iris Flower Classifications"
   ]
  },
  {
   "cell_type": "code",
   "execution_count": 3,
   "id": "65c87aa9-9f1c-43d5-8e1e-18703092685e",
   "metadata": {},
   "outputs": [],
   "source": [
    "import pandas as pd\n",
    "import numpy as np\n",
    "import seaborn  as sns\n",
    "from tensorflow import keras"
   ]
  },
  {
   "cell_type": "code",
   "execution_count": 9,
   "id": "6e829ef4-29af-4072-879d-f5c9020bdfe7",
   "metadata": {},
   "outputs": [
    {
     "data": {
      "text/html": [
       "<div>\n",
       "<style scoped>\n",
       "    .dataframe tbody tr th:only-of-type {\n",
       "        vertical-align: middle;\n",
       "    }\n",
       "\n",
       "    .dataframe tbody tr th {\n",
       "        vertical-align: top;\n",
       "    }\n",
       "\n",
       "    .dataframe thead th {\n",
       "        text-align: right;\n",
       "    }\n",
       "</style>\n",
       "<table border=\"1\" class=\"dataframe\">\n",
       "  <thead>\n",
       "    <tr style=\"text-align: right;\">\n",
       "      <th></th>\n",
       "      <th>Id</th>\n",
       "      <th>SepalLengthCm</th>\n",
       "      <th>SepalWidthCm</th>\n",
       "      <th>PetalLengthCm</th>\n",
       "      <th>PetalWidthCm</th>\n",
       "      <th>Species</th>\n",
       "    </tr>\n",
       "  </thead>\n",
       "  <tbody>\n",
       "    <tr>\n",
       "      <th>0</th>\n",
       "      <td>1</td>\n",
       "      <td>5.1</td>\n",
       "      <td>3.5</td>\n",
       "      <td>1.4</td>\n",
       "      <td>0.2</td>\n",
       "      <td>Iris-setosa</td>\n",
       "    </tr>\n",
       "    <tr>\n",
       "      <th>1</th>\n",
       "      <td>2</td>\n",
       "      <td>4.9</td>\n",
       "      <td>3.0</td>\n",
       "      <td>1.4</td>\n",
       "      <td>0.2</td>\n",
       "      <td>Iris-setosa</td>\n",
       "    </tr>\n",
       "    <tr>\n",
       "      <th>2</th>\n",
       "      <td>3</td>\n",
       "      <td>4.7</td>\n",
       "      <td>3.2</td>\n",
       "      <td>1.3</td>\n",
       "      <td>0.2</td>\n",
       "      <td>Iris-setosa</td>\n",
       "    </tr>\n",
       "    <tr>\n",
       "      <th>3</th>\n",
       "      <td>4</td>\n",
       "      <td>4.6</td>\n",
       "      <td>3.1</td>\n",
       "      <td>1.5</td>\n",
       "      <td>0.2</td>\n",
       "      <td>Iris-setosa</td>\n",
       "    </tr>\n",
       "    <tr>\n",
       "      <th>4</th>\n",
       "      <td>5</td>\n",
       "      <td>5.0</td>\n",
       "      <td>3.6</td>\n",
       "      <td>1.4</td>\n",
       "      <td>0.2</td>\n",
       "      <td>Iris-setosa</td>\n",
       "    </tr>\n",
       "  </tbody>\n",
       "</table>\n",
       "</div>"
      ],
      "text/plain": [
       "   Id  SepalLengthCm  SepalWidthCm  PetalLengthCm  PetalWidthCm      Species\n",
       "0   1            5.1           3.5            1.4           0.2  Iris-setosa\n",
       "1   2            4.9           3.0            1.4           0.2  Iris-setosa\n",
       "2   3            4.7           3.2            1.3           0.2  Iris-setosa\n",
       "3   4            4.6           3.1            1.5           0.2  Iris-setosa\n",
       "4   5            5.0           3.6            1.4           0.2  Iris-setosa"
      ]
     },
     "execution_count": 9,
     "metadata": {},
     "output_type": "execute_result"
    }
   ],
   "source": [
    "df = pd.read_csv('iris_dataset.csv')\n",
    "df.head()"
   ]
  },
  {
   "cell_type": "code",
   "execution_count": 10,
   "id": "77123ff7-c564-4f68-a38c-41825dccb14d",
   "metadata": {},
   "outputs": [
    {
     "data": {
      "text/plain": [
       "Iris-setosa        50\n",
       "Iris-versicolor    50\n",
       "Iris-virginica     50\n",
       "Name: Species, dtype: int64"
      ]
     },
     "execution_count": 10,
     "metadata": {},
     "output_type": "execute_result"
    }
   ],
   "source": [
    "df['Species'].value_counts()"
   ]
  },
  {
   "cell_type": "code",
   "execution_count": 11,
   "id": "d56b3ea8-c3f5-47a5-a87a-b6711df3dc19",
   "metadata": {},
   "outputs": [
    {
     "name": "stdout",
     "output_type": "stream",
     "text": [
      "<class 'pandas.core.frame.DataFrame'>\n",
      "RangeIndex: 150 entries, 0 to 149\n",
      "Data columns (total 6 columns):\n",
      " #   Column         Non-Null Count  Dtype  \n",
      "---  ------         --------------  -----  \n",
      " 0   Id             150 non-null    int64  \n",
      " 1   SepalLengthCm  150 non-null    float64\n",
      " 2   SepalWidthCm   150 non-null    float64\n",
      " 3   PetalLengthCm  150 non-null    float64\n",
      " 4   PetalWidthCm   150 non-null    float64\n",
      " 5   Species        150 non-null    object \n",
      "dtypes: float64(4), int64(1), object(1)\n",
      "memory usage: 7.2+ KB\n"
     ]
    }
   ],
   "source": [
    "df.info()"
   ]
  },
  {
   "cell_type": "code",
   "execution_count": 12,
   "id": "77727dfd-624b-4b4d-8c55-682c5db1d3bf",
   "metadata": {},
   "outputs": [
    {
     "data": {
      "text/html": [
       "<div>\n",
       "<style scoped>\n",
       "    .dataframe tbody tr th:only-of-type {\n",
       "        vertical-align: middle;\n",
       "    }\n",
       "\n",
       "    .dataframe tbody tr th {\n",
       "        vertical-align: top;\n",
       "    }\n",
       "\n",
       "    .dataframe thead th {\n",
       "        text-align: right;\n",
       "    }\n",
       "</style>\n",
       "<table border=\"1\" class=\"dataframe\">\n",
       "  <thead>\n",
       "    <tr style=\"text-align: right;\">\n",
       "      <th></th>\n",
       "      <th>Id</th>\n",
       "      <th>SepalLengthCm</th>\n",
       "      <th>SepalWidthCm</th>\n",
       "      <th>PetalLengthCm</th>\n",
       "      <th>PetalWidthCm</th>\n",
       "      <th>Species</th>\n",
       "    </tr>\n",
       "  </thead>\n",
       "  <tbody>\n",
       "    <tr>\n",
       "      <th>0</th>\n",
       "      <td>False</td>\n",
       "      <td>False</td>\n",
       "      <td>False</td>\n",
       "      <td>False</td>\n",
       "      <td>False</td>\n",
       "      <td>False</td>\n",
       "    </tr>\n",
       "    <tr>\n",
       "      <th>1</th>\n",
       "      <td>False</td>\n",
       "      <td>False</td>\n",
       "      <td>False</td>\n",
       "      <td>False</td>\n",
       "      <td>False</td>\n",
       "      <td>False</td>\n",
       "    </tr>\n",
       "    <tr>\n",
       "      <th>2</th>\n",
       "      <td>False</td>\n",
       "      <td>False</td>\n",
       "      <td>False</td>\n",
       "      <td>False</td>\n",
       "      <td>False</td>\n",
       "      <td>False</td>\n",
       "    </tr>\n",
       "    <tr>\n",
       "      <th>3</th>\n",
       "      <td>False</td>\n",
       "      <td>False</td>\n",
       "      <td>False</td>\n",
       "      <td>False</td>\n",
       "      <td>False</td>\n",
       "      <td>False</td>\n",
       "    </tr>\n",
       "    <tr>\n",
       "      <th>4</th>\n",
       "      <td>False</td>\n",
       "      <td>False</td>\n",
       "      <td>False</td>\n",
       "      <td>False</td>\n",
       "      <td>False</td>\n",
       "      <td>False</td>\n",
       "    </tr>\n",
       "    <tr>\n",
       "      <th>...</th>\n",
       "      <td>...</td>\n",
       "      <td>...</td>\n",
       "      <td>...</td>\n",
       "      <td>...</td>\n",
       "      <td>...</td>\n",
       "      <td>...</td>\n",
       "    </tr>\n",
       "    <tr>\n",
       "      <th>145</th>\n",
       "      <td>False</td>\n",
       "      <td>False</td>\n",
       "      <td>False</td>\n",
       "      <td>False</td>\n",
       "      <td>False</td>\n",
       "      <td>False</td>\n",
       "    </tr>\n",
       "    <tr>\n",
       "      <th>146</th>\n",
       "      <td>False</td>\n",
       "      <td>False</td>\n",
       "      <td>False</td>\n",
       "      <td>False</td>\n",
       "      <td>False</td>\n",
       "      <td>False</td>\n",
       "    </tr>\n",
       "    <tr>\n",
       "      <th>147</th>\n",
       "      <td>False</td>\n",
       "      <td>False</td>\n",
       "      <td>False</td>\n",
       "      <td>False</td>\n",
       "      <td>False</td>\n",
       "      <td>False</td>\n",
       "    </tr>\n",
       "    <tr>\n",
       "      <th>148</th>\n",
       "      <td>False</td>\n",
       "      <td>False</td>\n",
       "      <td>False</td>\n",
       "      <td>False</td>\n",
       "      <td>False</td>\n",
       "      <td>False</td>\n",
       "    </tr>\n",
       "    <tr>\n",
       "      <th>149</th>\n",
       "      <td>False</td>\n",
       "      <td>False</td>\n",
       "      <td>False</td>\n",
       "      <td>False</td>\n",
       "      <td>False</td>\n",
       "      <td>False</td>\n",
       "    </tr>\n",
       "  </tbody>\n",
       "</table>\n",
       "<p>150 rows × 6 columns</p>\n",
       "</div>"
      ],
      "text/plain": [
       "        Id  SepalLengthCm  SepalWidthCm  PetalLengthCm  PetalWidthCm  Species\n",
       "0    False          False         False          False         False    False\n",
       "1    False          False         False          False         False    False\n",
       "2    False          False         False          False         False    False\n",
       "3    False          False         False          False         False    False\n",
       "4    False          False         False          False         False    False\n",
       "..     ...            ...           ...            ...           ...      ...\n",
       "145  False          False         False          False         False    False\n",
       "146  False          False         False          False         False    False\n",
       "147  False          False         False          False         False    False\n",
       "148  False          False         False          False         False    False\n",
       "149  False          False         False          False         False    False\n",
       "\n",
       "[150 rows x 6 columns]"
      ]
     },
     "execution_count": 12,
     "metadata": {},
     "output_type": "execute_result"
    }
   ],
   "source": [
    "df.isnull()"
   ]
  },
  {
   "cell_type": "code",
   "execution_count": 13,
   "id": "e01faa6d-b3c9-45f3-a997-0fece7002343",
   "metadata": {},
   "outputs": [
    {
     "data": {
      "text/plain": [
       "Id               0\n",
       "SepalLengthCm    0\n",
       "SepalWidthCm     0\n",
       "PetalLengthCm    0\n",
       "PetalWidthCm     0\n",
       "Species          0\n",
       "dtype: int64"
      ]
     },
     "execution_count": 13,
     "metadata": {},
     "output_type": "execute_result"
    }
   ],
   "source": [
    "df.isnull().sum()"
   ]
  },
  {
   "cell_type": "code",
   "execution_count": 16,
   "id": "d758a4c7-43fa-46a8-84bc-4194812e5dd4",
   "metadata": {},
   "outputs": [
    {
     "data": {
      "text/html": [
       "<div>\n",
       "<style scoped>\n",
       "    .dataframe tbody tr th:only-of-type {\n",
       "        vertical-align: middle;\n",
       "    }\n",
       "\n",
       "    .dataframe tbody tr th {\n",
       "        vertical-align: top;\n",
       "    }\n",
       "\n",
       "    .dataframe thead th {\n",
       "        text-align: right;\n",
       "    }\n",
       "</style>\n",
       "<table border=\"1\" class=\"dataframe\">\n",
       "  <thead>\n",
       "    <tr style=\"text-align: right;\">\n",
       "      <th></th>\n",
       "      <th>Id</th>\n",
       "      <th>SepalLengthCm</th>\n",
       "      <th>SepalWidthCm</th>\n",
       "      <th>PetalLengthCm</th>\n",
       "      <th>PetalWidthCm</th>\n",
       "      <th>Species</th>\n",
       "    </tr>\n",
       "  </thead>\n",
       "  <tbody>\n",
       "    <tr>\n",
       "      <th>0</th>\n",
       "      <td>1</td>\n",
       "      <td>5.1</td>\n",
       "      <td>3.5</td>\n",
       "      <td>1.4</td>\n",
       "      <td>0.2</td>\n",
       "      <td>0</td>\n",
       "    </tr>\n",
       "    <tr>\n",
       "      <th>1</th>\n",
       "      <td>2</td>\n",
       "      <td>4.9</td>\n",
       "      <td>3.0</td>\n",
       "      <td>1.4</td>\n",
       "      <td>0.2</td>\n",
       "      <td>0</td>\n",
       "    </tr>\n",
       "    <tr>\n",
       "      <th>2</th>\n",
       "      <td>3</td>\n",
       "      <td>4.7</td>\n",
       "      <td>3.2</td>\n",
       "      <td>1.3</td>\n",
       "      <td>0.2</td>\n",
       "      <td>0</td>\n",
       "    </tr>\n",
       "    <tr>\n",
       "      <th>3</th>\n",
       "      <td>4</td>\n",
       "      <td>4.6</td>\n",
       "      <td>3.1</td>\n",
       "      <td>1.5</td>\n",
       "      <td>0.2</td>\n",
       "      <td>0</td>\n",
       "    </tr>\n",
       "    <tr>\n",
       "      <th>4</th>\n",
       "      <td>5</td>\n",
       "      <td>5.0</td>\n",
       "      <td>3.6</td>\n",
       "      <td>1.4</td>\n",
       "      <td>0.2</td>\n",
       "      <td>0</td>\n",
       "    </tr>\n",
       "  </tbody>\n",
       "</table>\n",
       "</div>"
      ],
      "text/plain": [
       "   Id  SepalLengthCm  SepalWidthCm  PetalLengthCm  PetalWidthCm  Species\n",
       "0   1            5.1           3.5            1.4           0.2        0\n",
       "1   2            4.9           3.0            1.4           0.2        0\n",
       "2   3            4.7           3.2            1.3           0.2        0\n",
       "3   4            4.6           3.1            1.5           0.2        0\n",
       "4   5            5.0           3.6            1.4           0.2        0"
      ]
     },
     "execution_count": 16,
     "metadata": {},
     "output_type": "execute_result"
    }
   ],
   "source": [
    "from sklearn.preprocessing import LabelEncoder\n",
    "le = LabelEncoder()\n",
    "df['Species'] = le.fit_transform(df['Species'])\n",
    "df.head()"
   ]
  },
  {
   "cell_type": "code",
   "execution_count": 18,
   "id": "0e33f203-7a3b-4e9d-9c85-9a401210cc0e",
   "metadata": {},
   "outputs": [
    {
     "name": "stdout",
     "output_type": "stream",
     "text": [
      "['Iris-setosa' 'Iris-versicolor' 'Iris-virginica']\n"
     ]
    }
   ],
   "source": [
    "species_name = le.classes_\n",
    "print(species_name )"
   ]
  },
  {
   "cell_type": "code",
   "execution_count": 19,
   "id": "b3fc0ac7-27eb-4e93-95bf-b534d3f8e279",
   "metadata": {},
   "outputs": [
    {
     "data": {
      "text/html": [
       "<div>\n",
       "<style scoped>\n",
       "    .dataframe tbody tr th:only-of-type {\n",
       "        vertical-align: middle;\n",
       "    }\n",
       "\n",
       "    .dataframe tbody tr th {\n",
       "        vertical-align: top;\n",
       "    }\n",
       "\n",
       "    .dataframe thead th {\n",
       "        text-align: right;\n",
       "    }\n",
       "</style>\n",
       "<table border=\"1\" class=\"dataframe\">\n",
       "  <thead>\n",
       "    <tr style=\"text-align: right;\">\n",
       "      <th></th>\n",
       "      <th>SepalLengthCm</th>\n",
       "      <th>SepalWidthCm</th>\n",
       "      <th>PetalLengthCm</th>\n",
       "      <th>PetalWidthCm</th>\n",
       "    </tr>\n",
       "  </thead>\n",
       "  <tbody>\n",
       "    <tr>\n",
       "      <th>0</th>\n",
       "      <td>5.1</td>\n",
       "      <td>3.5</td>\n",
       "      <td>1.4</td>\n",
       "      <td>0.2</td>\n",
       "    </tr>\n",
       "    <tr>\n",
       "      <th>1</th>\n",
       "      <td>4.9</td>\n",
       "      <td>3.0</td>\n",
       "      <td>1.4</td>\n",
       "      <td>0.2</td>\n",
       "    </tr>\n",
       "    <tr>\n",
       "      <th>2</th>\n",
       "      <td>4.7</td>\n",
       "      <td>3.2</td>\n",
       "      <td>1.3</td>\n",
       "      <td>0.2</td>\n",
       "    </tr>\n",
       "  </tbody>\n",
       "</table>\n",
       "</div>"
      ],
      "text/plain": [
       "   SepalLengthCm  SepalWidthCm  PetalLengthCm  PetalWidthCm\n",
       "0            5.1           3.5            1.4           0.2\n",
       "1            4.9           3.0            1.4           0.2\n",
       "2            4.7           3.2            1.3           0.2"
      ]
     },
     "execution_count": 19,
     "metadata": {},
     "output_type": "execute_result"
    }
   ],
   "source": [
    "X = df.drop(columns=['Id','Species'])\n",
    "y = df['Species']\n",
    "X.head(3)"
   ]
  },
  {
   "cell_type": "code",
   "execution_count": 20,
   "id": "6356ab3a-d8f5-4b54-8d4a-2cbad9e3d165",
   "metadata": {},
   "outputs": [
    {
     "name": "stdout",
     "output_type": "stream",
     "text": [
      "0    0\n",
      "1    0\n",
      "2    0\n",
      "3    0\n",
      "4    0\n",
      "Name: Species, dtype: int32\n"
     ]
    }
   ],
   "source": [
    "print(y[:5])"
   ]
  },
  {
   "cell_type": "code",
   "execution_count": 21,
   "id": "6ad9cb47-834c-4ddd-97e1-dbc0de7ace2a",
   "metadata": {},
   "outputs": [],
   "source": [
    "from sklearn.model_selection import train_test_split\n",
    "x_train,x_test,y_train,y_test = train_test_split(X,y,test_size=0.3, shuffle=True, random_state=69)"
   ]
  },
  {
   "cell_type": "code",
   "execution_count": 22,
   "id": "245cd5c6-9dd8-4905-ac4e-f5443cfd6ef3",
   "metadata": {},
   "outputs": [
    {
     "data": {
      "text/plain": [
       "(105, 4)"
      ]
     },
     "execution_count": 22,
     "metadata": {},
     "output_type": "execute_result"
    }
   ],
   "source": [
    "x_train.shape"
   ]
  },
  {
   "cell_type": "code",
   "execution_count": 23,
   "id": "0f53e5ef-511f-4eb6-aeaf-15c100cb84e0",
   "metadata": {},
   "outputs": [
    {
     "name": "stdout",
     "output_type": "stream",
     "text": [
      "    SepalLengthCm  SepalWidthCm  PetalLengthCm  PetalWidthCm\n",
      "57            4.9           2.4            3.3           1.0\n",
      "[[-1.14630942 -1.44374444 -0.25650655 -0.258263  ]]\n"
     ]
    }
   ],
   "source": [
    "from sklearn.preprocessing import StandardScaler\n",
    "sc = StandardScaler()\n",
    "print(x_train[:1])\n",
    "x_train = sc.fit_transform(x_train)\n",
    "x_test = sc.transform(x_test)\n",
    "print(x_train[:1])"
   ]
  },
  {
   "cell_type": "code",
   "execution_count": 24,
   "id": "ef1d9e8c-02a8-40ad-b644-a8da627554c9",
   "metadata": {},
   "outputs": [
    {
     "name": "stdout",
     "output_type": "stream",
     "text": [
      "[[0. 1. 0.]\n",
      " [0. 0. 1.]\n",
      " [0. 1. 0.]\n",
      " [0. 1. 0.]\n",
      " [0. 1. 0.]]\n"
     ]
    }
   ],
   "source": [
    "y_train = keras.utils.to_categorical(y_train,num_classes=3)\n",
    "print(y_train[:5])"
   ]
  },
  {
   "cell_type": "code",
   "execution_count": 25,
   "id": "dd1bf14a-941e-49c0-9fb6-68efec5f2c09",
   "metadata": {},
   "outputs": [],
   "source": [
    "from keras.models import Sequential\n",
    "from keras.layers import Dense, Dropout"
   ]
  },
  {
   "cell_type": "code",
   "execution_count": 27,
   "id": "fd643640-0117-4436-98fd-28b22012140a",
   "metadata": {},
   "outputs": [],
   "source": [
    "model = Sequential()\n",
    "model.add(Dense(units=32,activation='relu', input_shape=(x_train.shape[-1], )))\n",
    "model.add(Dense(units=32,activation='relu'))\n",
    "model.add(Dropout(0.5))\n",
    "model.add(Dense(units=3,activation='softmax'))"
   ]
  },
  {
   "cell_type": "code",
   "execution_count": 29,
   "id": "b279121c-bf79-433a-a9c8-41547a064620",
   "metadata": {},
   "outputs": [
    {
     "name": "stdout",
     "output_type": "stream",
     "text": [
      "Model: \"sequential_1\"\n",
      "_________________________________________________________________\n",
      " Layer (type)                Output Shape              Param #   \n",
      "=================================================================\n",
      " dense_3 (Dense)             (None, 32)                160       \n",
      "                                                                 \n",
      " dense_4 (Dense)             (None, 32)                1056      \n",
      "                                                                 \n",
      " dropout_1 (Dropout)         (None, 32)                0         \n",
      "                                                                 \n",
      " dense_5 (Dense)             (None, 3)                 99        \n",
      "                                                                 \n",
      "=================================================================\n",
      "Total params: 1315 (5.14 KB)\n",
      "Trainable params: 1315 (5.14 KB)\n",
      "Non-trainable params: 0 (0.00 Byte)\n",
      "_________________________________________________________________\n"
     ]
    }
   ],
   "source": [
    "model.compile(optimizer='Adam', loss='categorical_crossentropy', metrics=['accuracy'])\n",
    "model.summary()"
   ]
  },
  {
   "cell_type": "code",
   "execution_count": 30,
   "id": "f91136dd-b120-413a-bb0f-a87e2c5ddd38",
   "metadata": {},
   "outputs": [
    {
     "name": "stdout",
     "output_type": "stream",
     "text": [
      "Epoch 1/100\n",
      "WARNING:tensorflow:From F:\\Users\\Dell\\Anaconda3\\lib\\site-packages\\keras\\src\\utils\\tf_utils.py:492: The name tf.ragged.RaggedTensorValue is deprecated. Please use tf.compat.v1.ragged.RaggedTensorValue instead.\n",
      "\n",
      "WARNING:tensorflow:From F:\\Users\\Dell\\Anaconda3\\lib\\site-packages\\keras\\src\\engine\\base_layer_utils.py:384: The name tf.executing_eagerly_outside_functions is deprecated. Please use tf.compat.v1.executing_eagerly_outside_functions instead.\n",
      "\n",
      "4/4 - 5s - loss: 1.0830 - accuracy: 0.3429 - 5s/epoch - 1s/step\n",
      "Epoch 2/100\n",
      "4/4 - 0s - loss: 1.0215 - accuracy: 0.4095 - 28ms/epoch - 7ms/step\n",
      "Epoch 3/100\n",
      "4/4 - 0s - loss: 0.9980 - accuracy: 0.5048 - 38ms/epoch - 9ms/step\n",
      "Epoch 4/100\n",
      "4/4 - 0s - loss: 0.9316 - accuracy: 0.5714 - 28ms/epoch - 7ms/step\n",
      "Epoch 5/100\n",
      "4/4 - 0s - loss: 0.8667 - accuracy: 0.5524 - 26ms/epoch - 7ms/step\n",
      "Epoch 6/100\n",
      "4/4 - 0s - loss: 0.8071 - accuracy: 0.6857 - 35ms/epoch - 9ms/step\n",
      "Epoch 7/100\n",
      "4/4 - 0s - loss: 0.8035 - accuracy: 0.6381 - 31ms/epoch - 8ms/step\n",
      "Epoch 8/100\n",
      "4/4 - 0s - loss: 0.7489 - accuracy: 0.7048 - 25ms/epoch - 6ms/step\n",
      "Epoch 9/100\n",
      "4/4 - 0s - loss: 0.7296 - accuracy: 0.7333 - 29ms/epoch - 7ms/step\n",
      "Epoch 10/100\n",
      "4/4 - 0s - loss: 0.6676 - accuracy: 0.7524 - 34ms/epoch - 8ms/step\n",
      "Epoch 11/100\n",
      "4/4 - 0s - loss: 0.6916 - accuracy: 0.7619 - 30ms/epoch - 7ms/step\n",
      "Epoch 12/100\n",
      "4/4 - 0s - loss: 0.6349 - accuracy: 0.7333 - 35ms/epoch - 9ms/step\n",
      "Epoch 13/100\n",
      "4/4 - 0s - loss: 0.6495 - accuracy: 0.7714 - 36ms/epoch - 9ms/step\n",
      "Epoch 14/100\n",
      "4/4 - 0s - loss: 0.5865 - accuracy: 0.7810 - 30ms/epoch - 7ms/step\n",
      "Epoch 15/100\n",
      "4/4 - 0s - loss: 0.5951 - accuracy: 0.7524 - 32ms/epoch - 8ms/step\n",
      "Epoch 16/100\n",
      "4/4 - 0s - loss: 0.5261 - accuracy: 0.8190 - 30ms/epoch - 7ms/step\n",
      "Epoch 17/100\n",
      "4/4 - 0s - loss: 0.5993 - accuracy: 0.7619 - 34ms/epoch - 8ms/step\n",
      "Epoch 18/100\n",
      "4/4 - 0s - loss: 0.5043 - accuracy: 0.8286 - 31ms/epoch - 8ms/step\n",
      "Epoch 19/100\n",
      "4/4 - 0s - loss: 0.5069 - accuracy: 0.8000 - 28ms/epoch - 7ms/step\n",
      "Epoch 20/100\n",
      "4/4 - 0s - loss: 0.4856 - accuracy: 0.8095 - 26ms/epoch - 6ms/step\n",
      "Epoch 21/100\n",
      "4/4 - 0s - loss: 0.4856 - accuracy: 0.8286 - 29ms/epoch - 7ms/step\n",
      "Epoch 22/100\n",
      "4/4 - 0s - loss: 0.4592 - accuracy: 0.8381 - 33ms/epoch - 8ms/step\n",
      "Epoch 23/100\n",
      "4/4 - 0s - loss: 0.4910 - accuracy: 0.7714 - 28ms/epoch - 7ms/step\n",
      "Epoch 24/100\n",
      "4/4 - 0s - loss: 0.4961 - accuracy: 0.7619 - 31ms/epoch - 8ms/step\n",
      "Epoch 25/100\n",
      "4/4 - 0s - loss: 0.4997 - accuracy: 0.8095 - 28ms/epoch - 7ms/step\n",
      "Epoch 26/100\n",
      "4/4 - 0s - loss: 0.4457 - accuracy: 0.8190 - 26ms/epoch - 6ms/step\n",
      "Epoch 27/100\n",
      "4/4 - 0s - loss: 0.4513 - accuracy: 0.8286 - 32ms/epoch - 8ms/step\n",
      "Epoch 28/100\n",
      "4/4 - 0s - loss: 0.3905 - accuracy: 0.8381 - 30ms/epoch - 7ms/step\n",
      "Epoch 29/100\n",
      "4/4 - 0s - loss: 0.4194 - accuracy: 0.8381 - 15ms/epoch - 4ms/step\n",
      "Epoch 30/100\n",
      "4/4 - 0s - loss: 0.4469 - accuracy: 0.8095 - 27ms/epoch - 7ms/step\n",
      "Epoch 31/100\n",
      "4/4 - 0s - loss: 0.4293 - accuracy: 0.8190 - 18ms/epoch - 5ms/step\n",
      "Epoch 32/100\n",
      "4/4 - 0s - loss: 0.4145 - accuracy: 0.8381 - 27ms/epoch - 7ms/step\n",
      "Epoch 33/100\n",
      "4/4 - 0s - loss: 0.3928 - accuracy: 0.8476 - 30ms/epoch - 8ms/step\n",
      "Epoch 34/100\n",
      "4/4 - 0s - loss: 0.3997 - accuracy: 0.8476 - 33ms/epoch - 8ms/step\n",
      "Epoch 35/100\n",
      "4/4 - 0s - loss: 0.4323 - accuracy: 0.7905 - 28ms/epoch - 7ms/step\n",
      "Epoch 36/100\n",
      "4/4 - 0s - loss: 0.3874 - accuracy: 0.8381 - 32ms/epoch - 8ms/step\n",
      "Epoch 37/100\n",
      "4/4 - 0s - loss: 0.4119 - accuracy: 0.8571 - 32ms/epoch - 8ms/step\n",
      "Epoch 38/100\n",
      "4/4 - 0s - loss: 0.3745 - accuracy: 0.8381 - 31ms/epoch - 8ms/step\n",
      "Epoch 39/100\n",
      "4/4 - 0s - loss: 0.3998 - accuracy: 0.8476 - 18ms/epoch - 4ms/step\n",
      "Epoch 40/100\n",
      "4/4 - 0s - loss: 0.3791 - accuracy: 0.8286 - 32ms/epoch - 8ms/step\n",
      "Epoch 41/100\n",
      "4/4 - 0s - loss: 0.3682 - accuracy: 0.8095 - 16ms/epoch - 4ms/step\n",
      "Epoch 42/100\n",
      "4/4 - 0s - loss: 0.3485 - accuracy: 0.8476 - 33ms/epoch - 8ms/step\n",
      "Epoch 43/100\n",
      "4/4 - 0s - loss: 0.3323 - accuracy: 0.8762 - 29ms/epoch - 7ms/step\n",
      "Epoch 44/100\n",
      "4/4 - 0s - loss: 0.3467 - accuracy: 0.8476 - 18ms/epoch - 4ms/step\n",
      "Epoch 45/100\n",
      "4/4 - 0s - loss: 0.3261 - accuracy: 0.8857 - 29ms/epoch - 7ms/step\n",
      "Epoch 46/100\n",
      "4/4 - 0s - loss: 0.3301 - accuracy: 0.8571 - 28ms/epoch - 7ms/step\n",
      "Epoch 47/100\n",
      "4/4 - 0s - loss: 0.3342 - accuracy: 0.8857 - 30ms/epoch - 7ms/step\n",
      "Epoch 48/100\n",
      "4/4 - 0s - loss: 0.3426 - accuracy: 0.8762 - 16ms/epoch - 4ms/step\n",
      "Epoch 49/100\n",
      "4/4 - 0s - loss: 0.3261 - accuracy: 0.8476 - 22ms/epoch - 6ms/step\n",
      "Epoch 50/100\n",
      "4/4 - 0s - loss: 0.3056 - accuracy: 0.8667 - 18ms/epoch - 4ms/step\n",
      "Epoch 51/100\n",
      "4/4 - 0s - loss: 0.3175 - accuracy: 0.8857 - 31ms/epoch - 8ms/step\n",
      "Epoch 52/100\n",
      "4/4 - 0s - loss: 0.2896 - accuracy: 0.9143 - 33ms/epoch - 8ms/step\n",
      "Epoch 53/100\n",
      "4/4 - 0s - loss: 0.2934 - accuracy: 0.8762 - 25ms/epoch - 6ms/step\n",
      "Epoch 54/100\n",
      "4/4 - 0s - loss: 0.3086 - accuracy: 0.8952 - 28ms/epoch - 7ms/step\n",
      "Epoch 55/100\n",
      "4/4 - 0s - loss: 0.3221 - accuracy: 0.8952 - 25ms/epoch - 6ms/step\n",
      "Epoch 56/100\n",
      "4/4 - 0s - loss: 0.3385 - accuracy: 0.8571 - 17ms/epoch - 4ms/step\n",
      "Epoch 57/100\n",
      "4/4 - 0s - loss: 0.3150 - accuracy: 0.8571 - 27ms/epoch - 7ms/step\n",
      "Epoch 58/100\n",
      "4/4 - 0s - loss: 0.2840 - accuracy: 0.8762 - 31ms/epoch - 8ms/step\n",
      "Epoch 59/100\n",
      "4/4 - 0s - loss: 0.2726 - accuracy: 0.8952 - 30ms/epoch - 8ms/step\n",
      "Epoch 60/100\n",
      "4/4 - 0s - loss: 0.2933 - accuracy: 0.8952 - 16ms/epoch - 4ms/step\n",
      "Epoch 61/100\n",
      "4/4 - 0s - loss: 0.2641 - accuracy: 0.9333 - 32ms/epoch - 8ms/step\n",
      "Epoch 62/100\n",
      "4/4 - 0s - loss: 0.2644 - accuracy: 0.9238 - 27ms/epoch - 7ms/step\n",
      "Epoch 63/100\n",
      "4/4 - 0s - loss: 0.2688 - accuracy: 0.8667 - 35ms/epoch - 9ms/step\n",
      "Epoch 64/100\n",
      "4/4 - 0s - loss: 0.2574 - accuracy: 0.9143 - 36ms/epoch - 9ms/step\n",
      "Epoch 65/100\n",
      "4/4 - 0s - loss: 0.2581 - accuracy: 0.9048 - 36ms/epoch - 9ms/step\n",
      "Epoch 66/100\n",
      "4/4 - 0s - loss: 0.2360 - accuracy: 0.9238 - 24ms/epoch - 6ms/step\n",
      "Epoch 67/100\n",
      "4/4 - 0s - loss: 0.2330 - accuracy: 0.9333 - 31ms/epoch - 8ms/step\n",
      "Epoch 68/100\n",
      "4/4 - 0s - loss: 0.3046 - accuracy: 0.8857 - 35ms/epoch - 9ms/step\n",
      "Epoch 69/100\n",
      "4/4 - 0s - loss: 0.2268 - accuracy: 0.8952 - 24ms/epoch - 6ms/step\n",
      "Epoch 70/100\n",
      "4/4 - 0s - loss: 0.1952 - accuracy: 0.9238 - 53ms/epoch - 13ms/step\n",
      "Epoch 71/100\n",
      "4/4 - 0s - loss: 0.2240 - accuracy: 0.9238 - 24ms/epoch - 6ms/step\n",
      "Epoch 72/100\n",
      "4/4 - 0s - loss: 0.2473 - accuracy: 0.9048 - 33ms/epoch - 8ms/step\n",
      "Epoch 73/100\n",
      "4/4 - 0s - loss: 0.2378 - accuracy: 0.9143 - 35ms/epoch - 9ms/step\n",
      "Epoch 74/100\n",
      "4/4 - 0s - loss: 0.2130 - accuracy: 0.9429 - 26ms/epoch - 6ms/step\n",
      "Epoch 75/100\n",
      "4/4 - 0s - loss: 0.2337 - accuracy: 0.9333 - 86ms/epoch - 21ms/step\n",
      "Epoch 76/100\n",
      "4/4 - 0s - loss: 0.2254 - accuracy: 0.9238 - 18ms/epoch - 5ms/step\n",
      "Epoch 77/100\n",
      "4/4 - 0s - loss: 0.1982 - accuracy: 0.9429 - 25ms/epoch - 6ms/step\n",
      "Epoch 78/100\n",
      "4/4 - 0s - loss: 0.2155 - accuracy: 0.9333 - 33ms/epoch - 8ms/step\n",
      "Epoch 79/100\n",
      "4/4 - 0s - loss: 0.2309 - accuracy: 0.9143 - 32ms/epoch - 8ms/step\n",
      "Epoch 80/100\n",
      "4/4 - 0s - loss: 0.2358 - accuracy: 0.9048 - 28ms/epoch - 7ms/step\n",
      "Epoch 81/100\n",
      "4/4 - 0s - loss: 0.1877 - accuracy: 0.9333 - 17ms/epoch - 4ms/step\n",
      "Epoch 82/100\n",
      "4/4 - 0s - loss: 0.2023 - accuracy: 0.9238 - 34ms/epoch - 9ms/step\n",
      "Epoch 83/100\n",
      "4/4 - 0s - loss: 0.2183 - accuracy: 0.9048 - 32ms/epoch - 8ms/step\n",
      "Epoch 84/100\n",
      "4/4 - 0s - loss: 0.1878 - accuracy: 0.9143 - 26ms/epoch - 7ms/step\n",
      "Epoch 85/100\n",
      "4/4 - 0s - loss: 0.1962 - accuracy: 0.9333 - 32ms/epoch - 8ms/step\n",
      "Epoch 86/100\n",
      "4/4 - 0s - loss: 0.2148 - accuracy: 0.9333 - 29ms/epoch - 7ms/step\n",
      "Epoch 87/100\n",
      "4/4 - 0s - loss: 0.1708 - accuracy: 0.9524 - 43ms/epoch - 11ms/step\n",
      "Epoch 88/100\n",
      "4/4 - 0s - loss: 0.1881 - accuracy: 0.9238 - 32ms/epoch - 8ms/step\n",
      "Epoch 89/100\n",
      "4/4 - 0s - loss: 0.1802 - accuracy: 0.9429 - 35ms/epoch - 9ms/step\n",
      "Epoch 90/100\n",
      "4/4 - 0s - loss: 0.1332 - accuracy: 0.9714 - 26ms/epoch - 6ms/step\n",
      "Epoch 91/100\n",
      "4/4 - 0s - loss: 0.1121 - accuracy: 0.9810 - 37ms/epoch - 9ms/step\n",
      "Epoch 92/100\n",
      "4/4 - 0s - loss: 0.1865 - accuracy: 0.9238 - 17ms/epoch - 4ms/step\n",
      "Epoch 93/100\n",
      "4/4 - 0s - loss: 0.1818 - accuracy: 0.9524 - 33ms/epoch - 8ms/step\n",
      "Epoch 94/100\n",
      "4/4 - 0s - loss: 0.1795 - accuracy: 0.9524 - 30ms/epoch - 7ms/step\n",
      "Epoch 95/100\n",
      "4/4 - 0s - loss: 0.1798 - accuracy: 0.9429 - 34ms/epoch - 9ms/step\n",
      "Epoch 96/100\n",
      "4/4 - 0s - loss: 0.1562 - accuracy: 0.9619 - 27ms/epoch - 7ms/step\n",
      "Epoch 97/100\n",
      "4/4 - 0s - loss: 0.1736 - accuracy: 0.9524 - 34ms/epoch - 9ms/step\n",
      "Epoch 98/100\n",
      "4/4 - 0s - loss: 0.1461 - accuracy: 0.9619 - 27ms/epoch - 7ms/step\n",
      "Epoch 99/100\n",
      "4/4 - 0s - loss: 0.1778 - accuracy: 0.9333 - 25ms/epoch - 6ms/step\n",
      "Epoch 100/100\n",
      "4/4 - 0s - loss: 0.1603 - accuracy: 0.9429 - 20ms/epoch - 5ms/step\n"
     ]
    },
    {
     "data": {
      "text/plain": [
       "<keras.src.callbacks.History at 0x1a9936a5060>"
      ]
     },
     "execution_count": 30,
     "metadata": {},
     "output_type": "execute_result"
    }
   ],
   "source": [
    "model.fit(x_train, y_train, epochs=100, verbose=2)"
   ]
  },
  {
   "cell_type": "code",
   "execution_count": 31,
   "id": "0edacec8-17b7-4364-905d-9b562cce0278",
   "metadata": {},
   "outputs": [
    {
     "name": "stdout",
     "output_type": "stream",
     "text": [
      "2/2 [==============================] - 0s 8ms/step\n",
      "[[9.9993432e-01 4.9691225e-05 1.6021375e-05]\n",
      " [7.8623295e-03 9.0769643e-01 8.4441245e-02]\n",
      " [9.9958342e-01 3.3655894e-04 8.0117279e-05]\n",
      " [5.6542167e-06 4.7163763e-03 9.9527788e-01]\n",
      " [9.9946290e-01 4.4318105e-04 9.3841700e-05]]\n"
     ]
    }
   ],
   "source": [
    "prediction = model.predict(x_test)\n",
    "print(prediction[:5])"
   ]
  },
  {
   "cell_type": "code",
   "execution_count": 32,
   "id": "3855f179-5882-4159-a1df-6b5773440b61",
   "metadata": {},
   "outputs": [
    {
     "name": "stdout",
     "output_type": "stream",
     "text": [
      "[0 1 0 2 0]\n"
     ]
    }
   ],
   "source": [
    "prediction = np.argmax(prediction, axis=-1)\n",
    "print(prediction[:5])"
   ]
  },
  {
   "cell_type": "code",
   "execution_count": 33,
   "id": "f769d247-e402-4fbe-bc11-627180f06c96",
   "metadata": {},
   "outputs": [
    {
     "name": "stdout",
     "output_type": "stream",
     "text": [
      "4      0\n",
      "58     1\n",
      "20     0\n",
      "114    2\n",
      "31     0\n",
      "Name: Species, dtype: int32\n"
     ]
    }
   ],
   "source": [
    "print(y_test[:5])"
   ]
  },
  {
   "cell_type": "code",
   "execution_count": 34,
   "id": "99665105-980b-4147-bfef-251a30d6ff6a",
   "metadata": {},
   "outputs": [
    {
     "name": "stdout",
     "output_type": "stream",
     "text": [
      "0.9555555555555556\n"
     ]
    }
   ],
   "source": [
    "from sklearn.metrics import accuracy_score, confusion_matrix\n",
    "print(accuracy_score(y_test,prediction))"
   ]
  },
  {
   "cell_type": "code",
   "execution_count": 35,
   "id": "8d5c61cc-80ae-49ed-8067-e227be9e9b74",
   "metadata": {},
   "outputs": [
    {
     "name": "stdout",
     "output_type": "stream",
     "text": [
      "[[16  0  0]\n",
      " [ 0 11  1]\n",
      " [ 0  1 16]]\n"
     ]
    }
   ],
   "source": [
    "cm = confusion_matrix(y_test,prediction)\n",
    "print(cm)"
   ]
  },
  {
   "cell_type": "code",
   "execution_count": 39,
   "id": "dff3a02b-4be6-4ff3-833e-2630a1f348b9",
   "metadata": {},
   "outputs": [
    {
     "data": {
      "text/plain": [
       "Text(50.72222222222221, 0.5, 'actual')"
      ]
     },
     "execution_count": 39,
     "metadata": {},
     "output_type": "execute_result"
    },
    {
     "data": {
      "image/png": "[encoded data removed]",
      "text/plain": [
       "<Figure size 640x480 with 2 Axes>"
      ]
     },
     "metadata": {},
     "output_type": "display_data"
    }
   ],
   "source": [
    "ax = sns.heatmap(cm, annot=True, fmt='d', cmap='Reds', xticklabels=species_name, yticklabels=species_name)\n",
    "ax.set_title(\"confusion matrix for irsis dataset prediction\")\n",
    "ax.set_xlabel('prediction', fontsize=14)\n",
    "ax.set_ylabel('actual', fontsize=14)"
   ]
  },
  {
   "cell_type": "code",
   "execution_count": null,
   "id": "b883ef7c-151a-4128-bf24-2a0d323d68c1",
   "metadata": {},
   "outputs": [],
   "source": []
  }
 ],
 "metadata": {
  "kernelspec": {
   "display_name": "Python 3 (ipykernel)",
   "language": "python",
   "name": "python3"
  },
  "language_info": {
   "codemirror_mode": {
    "name": "ipython",
    "version": 3
   },
   "file_extension": ".py",
   "mimetype": "text/x-python",
   "name": "python",
   "nbconvert_exporter": "python",
   "pygments_lexer": "ipython3",
   "version": "3.10.9"
  }
 },
 "nbformat": 4,
 "nbformat_minor": 5
}
